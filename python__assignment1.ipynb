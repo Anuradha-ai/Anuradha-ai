{
  "nbformat": 4,
  "nbformat_minor": 0,
  "metadata": {
    "colab": {
      "provenance": [],
      "toc_visible": true,
      "authorship_tag": "ABX9TyOruZ/Nqjxldhj6qIcVGHko",
      "include_colab_link": true
    },
    "kernelspec": {
      "name": "python3",
      "display_name": "Python 3"
    },
    "language_info": {
      "name": "python"
    }
  },
  "cells": [
    {
      "cell_type": "markdown",
      "metadata": {
        "id": "view-in-github",
        "colab_type": "text"
      },
      "source": [
        "<a href=\"https://colab.research.google.com/github/Anuradha-ai/Anuradha-ai/blob/main/python__assignment1.ipynb\" target=\"_parent\"><img src=\"https://colab.research.google.com/assets/colab-badge.svg\" alt=\"Open In Colab\"/></a>"
      ]
    },
    {
      "cell_type": "markdown",
      "source": [
        "# Assignment 1"
      ],
      "metadata": {
        "id": "owD1-7shH1AA"
      }
    },
    {
      "cell_type": "markdown",
      "source": [
        "## 1.) Explain the key features of python that make it a popular choice of programming.\n",
        "\n",
        "### Python is a popular programming language due to the following key features:\n",
        "\n",
        "- ***Beginner-friendly***: Python has a simple and intuitive syntax, making it easy to learn and read, even for beginners.\n",
        "\n",
        "- ***Versatile***: Python can be used for a wide range of tasks, including web development, data science, machine learning, and scripting.\n",
        "\n",
        "- ***Large community and ecosystem***: A large and active community provides support, resources, and a vast collection of libraries and frameworks.\n",
        "\n",
        "- ***Open-source***: Python is free to use and distribute, even for commercial purposes, encouraging experimentation and collaboration.\n",
        "\n",
        "- ***Cross-platform compatibility***: Python can run on various operating systems like Windows, macOS, and Linux."
      ],
      "metadata": {
        "id": "KtgSLIeJGB5O"
      }
    },
    {
      "cell_type": "markdown",
      "source": [
        "## 2.) Describe the predefined keywords in Python and provide examples how they are used in programs?\n",
        "\n",
        "- Predefined keywords in Python are ***reserved words*** that have special meanings and cannot be used as identifiers (variable names, function names, etc.).\n",
        "\n",
        "- They are ***fundamental building blocks*** of the language and are ***used to define the structure and logic*** of Python code."
      ],
      "metadata": {
        "id": "6OWkTvk5Gxqb"
      }
    },
    {
      "cell_type": "code",
      "source": [
        "x = True\n",
        "if x:\n",
        "  print(\"x is True\")"
      ],
      "metadata": {
        "colab": {
          "base_uri": "https://localhost:8080/"
        },
        "id": "wRxDtpUFI-qZ",
        "outputId": "8069bb5e-184f-42e2-a930-4bb28d99a470"
      },
      "execution_count": null,
      "outputs": [
        {
          "output_type": "stream",
          "name": "stdout",
          "text": [
            "x is True\n"
          ]
        }
      ]
    },
    {
      "cell_type": "markdown",
      "source": [
        "## 3.) compare and contrast between mutable and immutable objects in python with examples ?\n",
        "\n",
        "- **Mutable objects** can be changed after they are created.\n",
        "  - Examples include lists, dictionaries, and sets.\n",
        "\n"
      ],
      "metadata": {
        "id": "8S9zaeoUKEZD"
      }
    },
    {
      "cell_type": "code",
      "source": [
        "my_list = [1, 2, 3]\n",
        "my_list[2] = 499\n",
        "print(my_list)"
      ],
      "metadata": {
        "colab": {
          "base_uri": "https://localhost:8080/"
        },
        "id": "Y1eLxAk2ItrV",
        "outputId": "3e369def-0568-486c-98fa-b05a365f7ce8"
      },
      "execution_count": null,
      "outputs": [
        {
          "output_type": "stream",
          "name": "stdout",
          "text": [
            "[1, 2, 499]\n"
          ]
        }
      ]
    },
    {
      "cell_type": "markdown",
      "source": [
        "- **Immutable objects** cannot be changed after they are created.\n",
        "\n",
        "  - Examples include integers, floats, strings, and tuples."
      ],
      "metadata": {
        "id": "0t-YDpXVLLUc"
      }
    },
    {
      "cell_type": "code",
      "source": [
        "my_string = \"hello\"\n",
        "my_string[1] = \"a\"\n",
        "print(my_string)\n",
        "# 'str' object does not support item assignment because it is immutable."
      ],
      "metadata": {
        "id": "570s-Cg-Itn2"
      },
      "execution_count": null,
      "outputs": []
    },
    {
      "cell_type": "markdown",
      "source": [
        "## 4.)  Discuss the different types of operators in Python and provide examples of how they are used ?\n",
        "\n",
        "### Python has a rich set of operators to perform various operations. Here are some of the common types:\n",
        "\n",
        "- Arithmetic Operators: Perform basic mathematical operations."
      ],
      "metadata": {
        "id": "a8tkTb8wIlnP"
      }
    },
    {
      "cell_type": "code",
      "source": [
        "# Addition\n",
        "result = 5 + 3\n",
        "\n",
        "# Subtraction\n",
        "result = 10 - 4\n",
        "\n",
        "# Multiplication\n",
        "result = 6 * 7\n",
        "\n",
        "# Division\n",
        "result = 15 / 3"
      ],
      "metadata": {
        "id": "wOXLCye7OePP"
      },
      "execution_count": null,
      "outputs": []
    },
    {
      "cell_type": "markdown",
      "source": [
        "- Comparison Operators: Compare values and return True or False."
      ],
      "metadata": {
        "id": "zIS3PxMlOWFS"
      }
    },
    {
      "cell_type": "code",
      "source": [
        "# Greater than\n",
        "result = 10 > 5\n",
        "\n",
        "# Less than\n",
        "result = 5 < 10\n",
        "\n",
        "# Equal to\n",
        "result = 10 == 10\n",
        "\n",
        "# Not equal to\n",
        "result = 5 != 10"
      ],
      "metadata": {
        "id": "Eor-V1OFOhtr"
      },
      "execution_count": null,
      "outputs": []
    },
    {
      "cell_type": "markdown",
      "source": [
        "Assignment Operators: Assign values to variables."
      ],
      "metadata": {
        "id": "m4rWMp6kOaMh"
      }
    },
    {
      "cell_type": "code",
      "source": [
        "# Assign value\n",
        "x = 10\n",
        "\n",
        "# Add and assign\n",
        "x += 5  # Equivalent to x = x + 5\n",
        "\n",
        "# Subtract and assign\n",
        "x -= 3  # Equivalent to x = x - 3"
      ],
      "metadata": {
        "id": "F-IoZMPhOjTN"
      },
      "execution_count": null,
      "outputs": []
    },
    {
      "cell_type": "markdown",
      "source": [
        "Logical Operators: Combine conditional statements"
      ],
      "metadata": {
        "id": "BsUGYjbeOxQR"
      }
    },
    {
      "cell_type": "code",
      "source": [
        "x = True\n",
        "y = False\n",
        "\n",
        "# and operator\n",
        "result = x and y\n",
        "\n",
        "# or operator\n",
        "result = x or y\n",
        "\n",
        "# not operator\n",
        "result = not x"
      ],
      "metadata": {
        "id": "dD9Q47GbO0ek"
      },
      "execution_count": null,
      "outputs": []
    },
    {
      "cell_type": "markdown",
      "source": [
        "## 5.) Explain the concept of type casting in Python with examples ?"
      ],
      "metadata": {
        "id": "vjsawpyTNpGl"
      }
    },
    {
      "cell_type": "markdown",
      "source": [
        "- ***Type casting*** in Python is the process of converting a value from one data type to another.\n",
        "\n",
        "- This is useful when you need to perform operations on data that is of the wrong type.\n"
      ],
      "metadata": {
        "id": "XYcJ7K40PSec"
      }
    },
    {
      "cell_type": "code",
      "source": [
        " # Converting a string to an integer\n",
        "age = \"25\"\n",
        "age_int = int(age)\n",
        "print(age_int + 5)\n",
        "print(type(age_int))"
      ],
      "metadata": {
        "colab": {
          "base_uri": "https://localhost:8080/"
        },
        "id": "D-XpLpCJPfSM",
        "outputId": "5506bbf1-261a-4c7d-dafb-01c83e3702ba"
      },
      "execution_count": null,
      "outputs": [
        {
          "output_type": "stream",
          "name": "stdout",
          "text": [
            "30\n",
            "<class 'int'>\n"
          ]
        }
      ]
    },
    {
      "cell_type": "code",
      "source": [
        "# Converting an integer to a string\n",
        "number = 100\n",
        "number_str = str(number)\n",
        "print(\"The number is: \" + number_str)\n",
        "print(type(number_str))"
      ],
      "metadata": {
        "colab": {
          "base_uri": "https://localhost:8080/"
        },
        "id": "rWngNqLZPfO9",
        "outputId": "e94f6416-5ccf-4018-bd3a-2b1e1ef917a1"
      },
      "execution_count": null,
      "outputs": [
        {
          "output_type": "stream",
          "name": "stdout",
          "text": [
            "The number is: 100\n",
            "<class 'str'>\n"
          ]
        }
      ]
    },
    {
      "cell_type": "markdown",
      "source": [
        "\n",
        "## 6.) How do conditional statements work in Python? Illustrate with examples"
      ],
      "metadata": {
        "id": "rzzp0gWTNw5_"
      }
    },
    {
      "cell_type": "markdown",
      "source": [
        "- Conditional statements in Python allow you to execute different blocks of code based on whether a certain condition is true or false.\n",
        "\n",
        "- They control the flow of your program.\n",
        "\n",
        "###- **if statement**:\n",
        "\n",
        "  - The most basic conditional statement.\n",
        "  \n",
        "  - It executes a block of code only if the condition is true."
      ],
      "metadata": {
        "id": "p4oPIsauQgKC"
      }
    },
    {
      "cell_type": "code",
      "source": [
        "x = 10\n",
        "if x > 5:\n",
        "  print(\"x is greater than 5\")"
      ],
      "metadata": {
        "colab": {
          "base_uri": "https://localhost:8080/"
        },
        "id": "ipP0xJCpRKZl",
        "outputId": "6af463e8-4413-4273-dbeb-fa3e0dd9251e"
      },
      "execution_count": null,
      "outputs": [
        {
          "output_type": "stream",
          "name": "stdout",
          "text": [
            "x is greater than 5\n"
          ]
        }
      ]
    },
    {
      "cell_type": "markdown",
      "source": [
        "### **if-else statement**:\n",
        "\n",
        "- Allows you to execute one block of code if the condition is true and another block if it is false."
      ],
      "metadata": {
        "id": "UqB4SwLFQ1Rj"
      }
    },
    {
      "cell_type": "code",
      "source": [
        "x = 10\n",
        "if x > 15:\n",
        "  print(\"x is greater than 15\")\n",
        "else:\n",
        "  print(\"x is not greater than 15\")"
      ],
      "metadata": {
        "colab": {
          "base_uri": "https://localhost:8080/"
        },
        "id": "6k2LrD5fR5uz",
        "outputId": "2ce1775f-3db2-40c5-f69c-cc67348cfe46"
      },
      "execution_count": null,
      "outputs": [
        {
          "output_type": "stream",
          "name": "stdout",
          "text": [
            "x is not greater than 15\n"
          ]
        }
      ]
    },
    {
      "cell_type": "markdown",
      "source": [
        "### if-elif-else statement:\n",
        "\n",
        " - Allows you to check ***multiple conditions*** and execute different blocks of code accordingly."
      ],
      "metadata": {
        "id": "aMMmxViLSE_4"
      }
    },
    {
      "cell_type": "code",
      "source": [
        "x = 10\n",
        "if x > 15:\n",
        "  print(\"x is greater than 15\")\n",
        "elif x > 5:\n",
        "  print(\"x is greater than 5 but not greater than 15\")\n",
        "else:\n",
        "  print(\"x is not greater than 5\")"
      ],
      "metadata": {
        "colab": {
          "base_uri": "https://localhost:8080/"
        },
        "id": "bDXHwW5QSPy9",
        "outputId": "ec8e0ab9-afd2-496e-b14c-75572df0cbc4"
      },
      "execution_count": null,
      "outputs": [
        {
          "output_type": "stream",
          "name": "stdout",
          "text": [
            "x is greater than 5 but not greater than 15\n"
          ]
        }
      ]
    },
    {
      "cell_type": "markdown",
      "source": [
        "## 7.) Describe the different types of loops in Python and their use cases with examples.\n",
        "\n",
        "### Python has two main types of loops:\n",
        "\n",
        "### **for loop:**\n",
        "\n",
        "- Used to iterate over a sequence (e.g., list, tuple, string) or other iterable objects.\n",
        "- Executes a block of code for each item in the sequence."
      ],
      "metadata": {
        "id": "UBRMQQh7N-nN"
      }
    },
    {
      "cell_type": "code",
      "source": [
        "fruits = [\"apple\", \"banana\", \"cherry\"]\n",
        "for fruit in fruits:\n",
        "  print(fruit)"
      ],
      "metadata": {
        "colab": {
          "base_uri": "https://localhost:8080/"
        },
        "id": "SNWkUITKGw_5",
        "outputId": "aa9dd7ef-251b-4542-ca36-1f4bfef6ce7a"
      },
      "execution_count": null,
      "outputs": [
        {
          "output_type": "stream",
          "name": "stdout",
          "text": [
            "apple\n",
            "banana\n",
            "cherry\n"
          ]
        }
      ]
    },
    {
      "cell_type": "markdown",
      "source": [
        "### **while loop**:\n",
        "- Used to repeatedly execute a block of code as long as a condition is true."
      ],
      "metadata": {
        "id": "Dtb2-CwvS9pL"
      }
    },
    {
      "cell_type": "code",
      "source": [
        "count = 0\n",
        "while count < 5:\n",
        "  print(count)\n",
        "  count += 1"
      ],
      "metadata": {
        "colab": {
          "base_uri": "https://localhost:8080/"
        },
        "id": "8S3u0CetGw7v",
        "outputId": "fd75fe38-ceee-4c71-c7a5-efc6c4a839e1"
      },
      "execution_count": null,
      "outputs": [
        {
          "output_type": "stream",
          "name": "stdout",
          "text": [
            "0\n",
            "1\n",
            "2\n",
            "3\n",
            "4\n"
          ]
        }
      ]
    },
    {
      "cell_type": "markdown",
      "source": [
        "### Use cases:\n",
        "\n",
        "**for loop:**\n",
        "\n",
        "- Processing each item in a list\n",
        "\n",
        "- Iterating through characters in a string\n",
        "\n",
        "- Performing a task a specific number of times using range()\n",
        "\n",
        "**while loop:**\n",
        "\n",
        "- Repeating a task until a specific condition is met\n",
        "- User input validation\n",
        "- ex- Game loops"
      ],
      "metadata": {
        "id": "_4j9pEf8TYTk"
      }
    }
  ]
}